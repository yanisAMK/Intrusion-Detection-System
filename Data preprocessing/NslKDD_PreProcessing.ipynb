{
  "cells": [
    {
      "cell_type": "code",
      "execution_count": null,
      "metadata": {
        "id": "TG19Tasj0maD"
      },
      "outputs": [],
      "source": [
        "\n",
        "import pandas as pd\n",
        "from sklearn.model_selection import train_test_split\n",
        "from sklearn import metrics\n",
        "from sklearn.linear_model import LogisticRegression\n",
        "\n",
        "import tensorflow as tf\n",
        "from keras.models import Sequential\n",
        "from keras.layers import Conv1D, MaxPooling1D, Flatten, Dense, Dropout, LSTM\n"
      ]
    },
    {
      "cell_type": "markdown",
      "metadata": {
        "id": "925VAPlas_MF"
      },
      "source": [
        "#Data"
      ]
    },
    {
      "cell_type": "code",
      "source": [
        "from google.colab import drive\n",
        "drive.mount('/content/drive')"
      ],
      "metadata": {
        "colab": {
          "base_uri": "https://localhost:8080/"
        },
        "id": "8CNVg9aL-OEB",
        "outputId": "deb82d14-bd53-4fa8-e6d6-338d59e0c184"
      },
      "execution_count": null,
      "outputs": [
        {
          "output_type": "stream",
          "name": "stdout",
          "text": [
            "Mounted at /content/drive\n"
          ]
        }
      ]
    },
    {
      "cell_type": "code",
      "source": [
        "features = ['duration','protocol_type','service','flag','src_bytes','dst_bytes','land','wrong_fragment','urgent','hot',\n",
        "            'num_failed_logins','logged_in','num_compromised','root_shell','su_attempted','num_root','num_file_creations',\n",
        "            'num_shells','num_access_files','num_outbound_cmds','is_host_login','is_guest_login','count','srv_count','serror_rate',\n",
        "            'srv_serror_rate','rerror_rate','srv_rerror_rate','same_srv_rate','diff_srv_rate','srv_diff_host_rate','dst_host_count',\n",
        "            'dst_host_srv_count','dst_host_same_srv_rate','dst_host_diff_srv_rate','dst_host_same_src_port_rate',\n",
        "            'dst_host_srv_diff_host_rate','dst_host_serror_rate','dst_host_srv_serror_rate','dst_host_rerror_rate',\n",
        "            'dst_host_srv_rerror_rate','class','difficulty_level']"
      ],
      "metadata": {
        "id": "KZhHzJIGAFlH"
      },
      "execution_count": null,
      "outputs": []
    },
    {
      "cell_type": "code",
      "source": [
        "train_set= pd.read_csv(\"/content/drive/MyDrive/Colab Notebooks/nslkdd/KDDTrain+.txt\", names = features)\n",
        "test_set = pd.read_csv(\"/content/drive/MyDrive/Colab Notebooks/nslkdd/KDDTest+.txt\", names = features)"
      ],
      "metadata": {
        "id": "YKl4DptyiwzG"
      },
      "execution_count": null,
      "outputs": []
    },
    {
      "cell_type": "code",
      "execution_count": null,
      "metadata": {
        "id": "WgDBNEo0FTI6"
      },
      "outputs": [],
      "source": [
        "#Training splits\n",
        "train_set, val_set = train_test_split(train_set, test_size = 0.3, random_state = 42)"
      ]
    },
    {
      "cell_type": "code",
      "source": [
        "train_set.reset_index(drop=True, inplace=True)\n",
        "val_set.reset_index(drop=True, inplace=True)\n",
        "test_set.reset_index(drop=True, inplace=True)"
      ],
      "metadata": {
        "id": "uo-2Qi_kVNIr"
      },
      "execution_count": null,
      "outputs": []
    },
    {
      "cell_type": "code",
      "source": [],
      "metadata": {
        "id": "q5iLIKkOw4fb"
      },
      "execution_count": null,
      "outputs": []
    },
    {
      "cell_type": "code",
      "source": [
        "\"\"\"combined_data = pd.concat([train_set, val_set, test_set])\n",
        "#deleting duplicated instances\n",
        "repetitive_instances = combined_data.duplicated().sum()\n",
        "print(\"Number of repetitive instances:\", repetitive_instances)\n",
        "combined_data.drop_duplicates(inplace=True)\n",
        "combined_data.shape #2520798,79\n",
        "#duplicated instances that have same columns except for the label\n",
        "duplicate_instances = combined_data.duplicated(subset=combined_data.columns[:-1], keep=False)\n",
        "duplicated_rows = combined_data[duplicate_instances]\n",
        "print(\"duplicates where all columns except for the label are the same :\",duplicated_rows.shape[0])\n",
        "combined_data.drop_duplicates(subset=combined_data.columns[:-1], keep=False, inplace=True)\n",
        "print(\"after deleting them we get : \", combined_data.shape[0])\n",
        "#train_set, val_set = train_test_split(combined_data, test_size = 0.4, random_state = 42)\n",
        "#val_set, test_set = train_test_split(val_set, test_size = 0.5, random_state = 42)\"\"\""
      ],
      "metadata": {
        "colab": {
          "base_uri": "https://localhost:8080/",
          "height": 104
        },
        "id": "gI7JjXnSun8k",
        "outputId": "448f778f-21b4-4d04-be54-ce205acb1179"
      },
      "execution_count": null,
      "outputs": [
        {
          "output_type": "execute_result",
          "data": {
            "text/plain": [
              "'combined_data = pd.concat([train_set, val_set, test_set])\\n#deleting duplicated instances\\nrepetitive_instances = combined_data.duplicated().sum()\\nprint(\"Number of repetitive instances:\", repetitive_instances)\\ncombined_data.drop_duplicates(inplace=True)\\ncombined_data.shape #2520798,79\\n#duplicated instances that have same columns except for the label\\nduplicate_instances = combined_data.duplicated(subset=combined_data.columns[:-1], keep=False)\\nduplicated_rows = combined_data[duplicate_instances]\\nprint(\"duplicates where all columns except for the label are the same :\",duplicated_rows.shape[0])\\ncombined_data.drop_duplicates(subset=combined_data.columns[:-1], keep=False, inplace=True)\\nprint(\"after deleting them we get : \", combined_data.shape[0])\\n#train_set, val_set = train_test_split(combined_data, test_size = 0.4, random_state = 42)\\n#val_set, test_set = train_test_split(val_set, test_size = 0.5, random_state = 42)'"
            ],
            "application/vnd.google.colaboratory.intrinsic+json": {
              "type": "string"
            }
          },
          "metadata": {},
          "execution_count": 7
        }
      ]
    },
    {
      "cell_type": "code",
      "source": [
        "# extract the labels for the outputs (will serve as metadata)\n",
        "m_train = train_set[\"class\"]\n",
        "m_test = test_set[\"class\"]\n",
        "m_val = val_set[\"class\"]\n",
        "\n",
        "# drop labels for input, and difficulty\n",
        "train_df = train_set.drop(columns=['class', 'difficulty_level'])\n",
        "test_df = test_set.drop(columns=['class', 'difficulty_level'])\n",
        "val_df = val_set.drop(columns =['class', 'difficulty_level'])"
      ],
      "metadata": {
        "id": "O1beJvISomGs"
      },
      "execution_count": null,
      "outputs": []
    },
    {
      "cell_type": "code",
      "source": [
        "from sklearn.preprocessing import MinMaxScaler\n",
        "# convert classes to numerical values\n",
        "x_train = pd.get_dummies(train_df)\n",
        "x_test = pd.get_dummies(test_df)\n",
        "x_val = pd.get_dummies(val_df)\n",
        "# reindex the testing dataset so its columns match the training columns\n",
        "x_test = x_test.reindex(columns=x_train.columns, fill_value=0)\n",
        "x_test = x_test.reindex(columns=x_val.columns, fill_value=0)\n",
        "\n",
        "x_val = x_val.reindex(columns=x_train.columns, fill_value=0)\n",
        "x_val = x_val.reindex(columns=x_test.columns, fill_value=0)\n",
        "\n",
        "x_train = x_train.reindex(columns=x_val.columns, fill_value=0)\n",
        "x_train = x_train.reindex(columns=x_test.columns, fill_value=0)\n",
        "\n",
        "# normalize input dataframes\n",
        "scaler = MinMaxScaler()\n",
        "scaler.fit(x_train)\n",
        "\n",
        "x_train[x_train.columns] = scaler.transform(x_train)\n",
        "x_test[x_test.columns] = scaler.transform(x_test)\n",
        "x_val[x_val.columns] = scaler.transform(x_val)\n",
        "\n",
        "print(\"Number of features:\", len(x_train.columns))\n",
        "print(\"Length of training set:\", len(x_train))\n",
        "print(\"Length of testing set:\", len(x_test))\n",
        "print(\"Length of validation set:\", len(x_val))\n",
        "print(f\"Label distribution in testing set:\\n{m_test.value_counts()}\")"
      ],
      "metadata": {
        "colab": {
          "base_uri": "https://localhost:8080/"
        },
        "id": "UA_0ajtLomA0",
        "outputId": "3d90263b-4c80-4ae1-933b-700b6d9aae91"
      },
      "execution_count": null,
      "outputs": [
        {
          "output_type": "stream",
          "name": "stdout",
          "text": [
            "Number of features: 120\n",
            "Length of training set: 88181\n",
            "Length of testing set: 22544\n",
            "Length of validation set: 37792\n",
            "Label distribution in testing set:\n",
            "normal             9711\n",
            "neptune            4657\n",
            "guess_passwd       1231\n",
            "mscan               996\n",
            "warezmaster         944\n",
            "apache2             737\n",
            "satan               735\n",
            "processtable        685\n",
            "smurf               665\n",
            "back                359\n",
            "snmpguess           331\n",
            "saint               319\n",
            "mailbomb            293\n",
            "snmpgetattack       178\n",
            "portsweep           157\n",
            "ipsweep             141\n",
            "httptunnel          133\n",
            "nmap                 73\n",
            "pod                  41\n",
            "buffer_overflow      20\n",
            "multihop             18\n",
            "named                17\n",
            "ps                   15\n",
            "sendmail             14\n",
            "rootkit              13\n",
            "xterm                13\n",
            "teardrop             12\n",
            "xlock                 9\n",
            "land                  7\n",
            "xsnoop                4\n",
            "ftp_write             3\n",
            "worm                  2\n",
            "loadmodule            2\n",
            "perl                  2\n",
            "sqlattack             2\n",
            "udpstorm              2\n",
            "phf                   2\n",
            "imap                  1\n",
            "Name: class, dtype: int64\n"
          ]
        }
      ]
    },
    {
      "cell_type": "code",
      "source": [
        "ATTACK_LABELS = m_train.unique()[m_train.unique() != 'normal']\n",
        "print(f\"Attack labels: {ATTACK_LABELS}\")"
      ],
      "metadata": {
        "colab": {
          "base_uri": "https://localhost:8080/"
        },
        "id": "XdH84v56ol5X",
        "outputId": "a5eca3b4-8088-4aa3-d670-20ea557be661"
      },
      "execution_count": null,
      "outputs": [
        {
          "output_type": "stream",
          "name": "stdout",
          "text": [
            "Attack labels: ['neptune' 'nmap' 'smurf' 'satan' 'ipsweep' 'portsweep' 'back' 'imap'\n",
            " 'pod' 'teardrop' 'warezclient' 'guess_passwd' 'land' 'loadmodule'\n",
            " 'ftp_write' 'buffer_overflow' 'perl' 'multihop' 'warezmaster' 'rootkit'\n",
            " 'phf' 'spy']\n"
          ]
        }
      ]
    },
    {
      "cell_type": "code",
      "source": [
        "# apply one-hot encoding to outputs; keep only normal vs abnormal\n",
        "y_train = m_train\n",
        "y_test = m_test\n",
        "y_val = m_val\n",
        "\n"
      ],
      "metadata": {
        "id": "GsMT8Vggqg5M"
      },
      "execution_count": null,
      "outputs": []
    },
    {
      "cell_type": "code",
      "source": [
        "train_set = pd.concat([x_train, y_train], axis = 1)\n",
        "val_set= pd.concat([x_val, y_val], axis = 1)\n",
        "test_set= pd.concat([x_test, y_test], axis = 1)\n",
        "test_set"
      ],
      "metadata": {
        "colab": {
          "base_uri": "https://localhost:8080/",
          "height": 488
        },
        "id": "F-piJwrzN8Cz",
        "outputId": "b7ca8fb9-6551-40fa-f07f-c11e22682a4a"
      },
      "execution_count": null,
      "outputs": [
        {
          "output_type": "execute_result",
          "data": {
            "text/plain": [
              "       duration     src_bytes     dst_bytes  land  wrong_fragment  urgent  \\\n",
              "0      0.000000  0.000000e+00  0.000000e+00   0.0             0.0     0.0   \n",
              "1      0.000000  0.000000e+00  0.000000e+00   0.0             0.0     0.0   \n",
              "2      0.000047  9.408217e-06  0.000000e+00   0.0             0.0     0.0   \n",
              "3      0.000000  1.449313e-08  0.000000e+00   0.0             0.0     0.0   \n",
              "4      0.000023  0.000000e+00  1.145093e-08   0.0             0.0     0.0   \n",
              "...         ...           ...           ...   ...             ...     ...   \n",
              "22539  0.000000  5.753774e-07  2.542106e-07   0.0             0.0     0.0   \n",
              "22540  0.000000  2.297162e-07  7.160648e-07   0.0             0.0     0.0   \n",
              "22541  0.000000  3.952277e-05  6.346868e-06   0.0             0.0     0.0   \n",
              "22542  0.000000  3.043558e-08  3.206260e-08   0.0             0.0     0.0   \n",
              "22543  0.000000  0.000000e+00  0.000000e+00   0.0             0.0     0.0   \n",
              "\n",
              "            hot  num_failed_logins  logged_in  num_compromised  ...  \\\n",
              "0      0.000000                0.0        0.0         0.000000  ...   \n",
              "1      0.000000                0.0        0.0         0.000000  ...   \n",
              "2      0.000000                0.0        0.0         0.000000  ...   \n",
              "3      0.000000                0.0        0.0         0.000000  ...   \n",
              "4      0.000000                0.0        0.0         0.000000  ...   \n",
              "...         ...                ...        ...              ...  ...   \n",
              "22539  0.000000                0.0        1.0         0.000000  ...   \n",
              "22540  0.000000                0.0        1.0         0.000000  ...   \n",
              "22541  0.025974                0.0        1.0         0.000134  ...   \n",
              "22542  0.000000                0.0        0.0         0.000000  ...   \n",
              "22543  0.000000                0.0        0.0         0.000000  ...   \n",
              "\n",
              "       flag_RSTO  flag_RSTOS0  flag_RSTR  flag_S0  flag_S1  flag_S2  flag_S3  \\\n",
              "0            0.0          0.0        0.0      0.0      0.0      0.0      0.0   \n",
              "1            0.0          0.0        0.0      0.0      0.0      0.0      0.0   \n",
              "2            0.0          0.0        0.0      0.0      0.0      0.0      0.0   \n",
              "3            0.0          0.0        0.0      0.0      0.0      0.0      0.0   \n",
              "4            1.0          0.0        0.0      0.0      0.0      0.0      0.0   \n",
              "...          ...          ...        ...      ...      ...      ...      ...   \n",
              "22539        0.0          0.0        0.0      0.0      0.0      0.0      0.0   \n",
              "22540        0.0          0.0        0.0      0.0      0.0      0.0      0.0   \n",
              "22541        0.0          0.0        0.0      0.0      0.0      0.0      0.0   \n",
              "22542        0.0          0.0        0.0      0.0      0.0      0.0      0.0   \n",
              "22543        0.0          0.0        0.0      0.0      0.0      0.0      0.0   \n",
              "\n",
              "       flag_SF  flag_SH    class  \n",
              "0          0.0      0.0  neptune  \n",
              "1          0.0      0.0  neptune  \n",
              "2          1.0      0.0   normal  \n",
              "3          1.0      0.0    saint  \n",
              "4          0.0      0.0    mscan  \n",
              "...        ...      ...      ...  \n",
              "22539      1.0      0.0   normal  \n",
              "22540      1.0      0.0   normal  \n",
              "22541      1.0      0.0     back  \n",
              "22542      1.0      0.0   normal  \n",
              "22543      0.0      0.0    mscan  \n",
              "\n",
              "[22544 rows x 121 columns]"
            ],
            "text/html": [
              "\n",
              "  <div id=\"df-d4990b3a-34d2-4326-be16-08415cc086d2\">\n",
              "    <div class=\"colab-df-container\">\n",
              "      <div>\n",
              "<style scoped>\n",
              "    .dataframe tbody tr th:only-of-type {\n",
              "        vertical-align: middle;\n",
              "    }\n",
              "\n",
              "    .dataframe tbody tr th {\n",
              "        vertical-align: top;\n",
              "    }\n",
              "\n",
              "    .dataframe thead th {\n",
              "        text-align: right;\n",
              "    }\n",
              "</style>\n",
              "<table border=\"1\" class=\"dataframe\">\n",
              "  <thead>\n",
              "    <tr style=\"text-align: right;\">\n",
              "      <th></th>\n",
              "      <th>duration</th>\n",
              "      <th>src_bytes</th>\n",
              "      <th>dst_bytes</th>\n",
              "      <th>land</th>\n",
              "      <th>wrong_fragment</th>\n",
              "      <th>urgent</th>\n",
              "      <th>hot</th>\n",
              "      <th>num_failed_logins</th>\n",
              "      <th>logged_in</th>\n",
              "      <th>num_compromised</th>\n",
              "      <th>...</th>\n",
              "      <th>flag_RSTO</th>\n",
              "      <th>flag_RSTOS0</th>\n",
              "      <th>flag_RSTR</th>\n",
              "      <th>flag_S0</th>\n",
              "      <th>flag_S1</th>\n",
              "      <th>flag_S2</th>\n",
              "      <th>flag_S3</th>\n",
              "      <th>flag_SF</th>\n",
              "      <th>flag_SH</th>\n",
              "      <th>class</th>\n",
              "    </tr>\n",
              "  </thead>\n",
              "  <tbody>\n",
              "    <tr>\n",
              "      <th>0</th>\n",
              "      <td>0.000000</td>\n",
              "      <td>0.000000e+00</td>\n",
              "      <td>0.000000e+00</td>\n",
              "      <td>0.0</td>\n",
              "      <td>0.0</td>\n",
              "      <td>0.0</td>\n",
              "      <td>0.000000</td>\n",
              "      <td>0.0</td>\n",
              "      <td>0.0</td>\n",
              "      <td>0.000000</td>\n",
              "      <td>...</td>\n",
              "      <td>0.0</td>\n",
              "      <td>0.0</td>\n",
              "      <td>0.0</td>\n",
              "      <td>0.0</td>\n",
              "      <td>0.0</td>\n",
              "      <td>0.0</td>\n",
              "      <td>0.0</td>\n",
              "      <td>0.0</td>\n",
              "      <td>0.0</td>\n",
              "      <td>neptune</td>\n",
              "    </tr>\n",
              "    <tr>\n",
              "      <th>1</th>\n",
              "      <td>0.000000</td>\n",
              "      <td>0.000000e+00</td>\n",
              "      <td>0.000000e+00</td>\n",
              "      <td>0.0</td>\n",
              "      <td>0.0</td>\n",
              "      <td>0.0</td>\n",
              "      <td>0.000000</td>\n",
              "      <td>0.0</td>\n",
              "      <td>0.0</td>\n",
              "      <td>0.000000</td>\n",
              "      <td>...</td>\n",
              "      <td>0.0</td>\n",
              "      <td>0.0</td>\n",
              "      <td>0.0</td>\n",
              "      <td>0.0</td>\n",
              "      <td>0.0</td>\n",
              "      <td>0.0</td>\n",
              "      <td>0.0</td>\n",
              "      <td>0.0</td>\n",
              "      <td>0.0</td>\n",
              "      <td>neptune</td>\n",
              "    </tr>\n",
              "    <tr>\n",
              "      <th>2</th>\n",
              "      <td>0.000047</td>\n",
              "      <td>9.408217e-06</td>\n",
              "      <td>0.000000e+00</td>\n",
              "      <td>0.0</td>\n",
              "      <td>0.0</td>\n",
              "      <td>0.0</td>\n",
              "      <td>0.000000</td>\n",
              "      <td>0.0</td>\n",
              "      <td>0.0</td>\n",
              "      <td>0.000000</td>\n",
              "      <td>...</td>\n",
              "      <td>0.0</td>\n",
              "      <td>0.0</td>\n",
              "      <td>0.0</td>\n",
              "      <td>0.0</td>\n",
              "      <td>0.0</td>\n",
              "      <td>0.0</td>\n",
              "      <td>0.0</td>\n",
              "      <td>1.0</td>\n",
              "      <td>0.0</td>\n",
              "      <td>normal</td>\n",
              "    </tr>\n",
              "    <tr>\n",
              "      <th>3</th>\n",
              "      <td>0.000000</td>\n",
              "      <td>1.449313e-08</td>\n",
              "      <td>0.000000e+00</td>\n",
              "      <td>0.0</td>\n",
              "      <td>0.0</td>\n",
              "      <td>0.0</td>\n",
              "      <td>0.000000</td>\n",
              "      <td>0.0</td>\n",
              "      <td>0.0</td>\n",
              "      <td>0.000000</td>\n",
              "      <td>...</td>\n",
              "      <td>0.0</td>\n",
              "      <td>0.0</td>\n",
              "      <td>0.0</td>\n",
              "      <td>0.0</td>\n",
              "      <td>0.0</td>\n",
              "      <td>0.0</td>\n",
              "      <td>0.0</td>\n",
              "      <td>1.0</td>\n",
              "      <td>0.0</td>\n",
              "      <td>saint</td>\n",
              "    </tr>\n",
              "    <tr>\n",
              "      <th>4</th>\n",
              "      <td>0.000023</td>\n",
              "      <td>0.000000e+00</td>\n",
              "      <td>1.145093e-08</td>\n",
              "      <td>0.0</td>\n",
              "      <td>0.0</td>\n",
              "      <td>0.0</td>\n",
              "      <td>0.000000</td>\n",
              "      <td>0.0</td>\n",
              "      <td>0.0</td>\n",
              "      <td>0.000000</td>\n",
              "      <td>...</td>\n",
              "      <td>1.0</td>\n",
              "      <td>0.0</td>\n",
              "      <td>0.0</td>\n",
              "      <td>0.0</td>\n",
              "      <td>0.0</td>\n",
              "      <td>0.0</td>\n",
              "      <td>0.0</td>\n",
              "      <td>0.0</td>\n",
              "      <td>0.0</td>\n",
              "      <td>mscan</td>\n",
              "    </tr>\n",
              "    <tr>\n",
              "      <th>...</th>\n",
              "      <td>...</td>\n",
              "      <td>...</td>\n",
              "      <td>...</td>\n",
              "      <td>...</td>\n",
              "      <td>...</td>\n",
              "      <td>...</td>\n",
              "      <td>...</td>\n",
              "      <td>...</td>\n",
              "      <td>...</td>\n",
              "      <td>...</td>\n",
              "      <td>...</td>\n",
              "      <td>...</td>\n",
              "      <td>...</td>\n",
              "      <td>...</td>\n",
              "      <td>...</td>\n",
              "      <td>...</td>\n",
              "      <td>...</td>\n",
              "      <td>...</td>\n",
              "      <td>...</td>\n",
              "      <td>...</td>\n",
              "      <td>...</td>\n",
              "    </tr>\n",
              "    <tr>\n",
              "      <th>22539</th>\n",
              "      <td>0.000000</td>\n",
              "      <td>5.753774e-07</td>\n",
              "      <td>2.542106e-07</td>\n",
              "      <td>0.0</td>\n",
              "      <td>0.0</td>\n",
              "      <td>0.0</td>\n",
              "      <td>0.000000</td>\n",
              "      <td>0.0</td>\n",
              "      <td>1.0</td>\n",
              "      <td>0.000000</td>\n",
              "      <td>...</td>\n",
              "      <td>0.0</td>\n",
              "      <td>0.0</td>\n",
              "      <td>0.0</td>\n",
              "      <td>0.0</td>\n",
              "      <td>0.0</td>\n",
              "      <td>0.0</td>\n",
              "      <td>0.0</td>\n",
              "      <td>1.0</td>\n",
              "      <td>0.0</td>\n",
              "      <td>normal</td>\n",
              "    </tr>\n",
              "    <tr>\n",
              "      <th>22540</th>\n",
              "      <td>0.000000</td>\n",
              "      <td>2.297162e-07</td>\n",
              "      <td>7.160648e-07</td>\n",
              "      <td>0.0</td>\n",
              "      <td>0.0</td>\n",
              "      <td>0.0</td>\n",
              "      <td>0.000000</td>\n",
              "      <td>0.0</td>\n",
              "      <td>1.0</td>\n",
              "      <td>0.000000</td>\n",
              "      <td>...</td>\n",
              "      <td>0.0</td>\n",
              "      <td>0.0</td>\n",
              "      <td>0.0</td>\n",
              "      <td>0.0</td>\n",
              "      <td>0.0</td>\n",
              "      <td>0.0</td>\n",
              "      <td>0.0</td>\n",
              "      <td>1.0</td>\n",
              "      <td>0.0</td>\n",
              "      <td>normal</td>\n",
              "    </tr>\n",
              "    <tr>\n",
              "      <th>22541</th>\n",
              "      <td>0.000000</td>\n",
              "      <td>3.952277e-05</td>\n",
              "      <td>6.346868e-06</td>\n",
              "      <td>0.0</td>\n",
              "      <td>0.0</td>\n",
              "      <td>0.0</td>\n",
              "      <td>0.025974</td>\n",
              "      <td>0.0</td>\n",
              "      <td>1.0</td>\n",
              "      <td>0.000134</td>\n",
              "      <td>...</td>\n",
              "      <td>0.0</td>\n",
              "      <td>0.0</td>\n",
              "      <td>0.0</td>\n",
              "      <td>0.0</td>\n",
              "      <td>0.0</td>\n",
              "      <td>0.0</td>\n",
              "      <td>0.0</td>\n",
              "      <td>1.0</td>\n",
              "      <td>0.0</td>\n",
              "      <td>back</td>\n",
              "    </tr>\n",
              "    <tr>\n",
              "      <th>22542</th>\n",
              "      <td>0.000000</td>\n",
              "      <td>3.043558e-08</td>\n",
              "      <td>3.206260e-08</td>\n",
              "      <td>0.0</td>\n",
              "      <td>0.0</td>\n",
              "      <td>0.0</td>\n",
              "      <td>0.000000</td>\n",
              "      <td>0.0</td>\n",
              "      <td>0.0</td>\n",
              "      <td>0.000000</td>\n",
              "      <td>...</td>\n",
              "      <td>0.0</td>\n",
              "      <td>0.0</td>\n",
              "      <td>0.0</td>\n",
              "      <td>0.0</td>\n",
              "      <td>0.0</td>\n",
              "      <td>0.0</td>\n",
              "      <td>0.0</td>\n",
              "      <td>1.0</td>\n",
              "      <td>0.0</td>\n",
              "      <td>normal</td>\n",
              "    </tr>\n",
              "    <tr>\n",
              "      <th>22543</th>\n",
              "      <td>0.000000</td>\n",
              "      <td>0.000000e+00</td>\n",
              "      <td>0.000000e+00</td>\n",
              "      <td>0.0</td>\n",
              "      <td>0.0</td>\n",
              "      <td>0.0</td>\n",
              "      <td>0.000000</td>\n",
              "      <td>0.0</td>\n",
              "      <td>0.0</td>\n",
              "      <td>0.000000</td>\n",
              "      <td>...</td>\n",
              "      <td>0.0</td>\n",
              "      <td>0.0</td>\n",
              "      <td>0.0</td>\n",
              "      <td>0.0</td>\n",
              "      <td>0.0</td>\n",
              "      <td>0.0</td>\n",
              "      <td>0.0</td>\n",
              "      <td>0.0</td>\n",
              "      <td>0.0</td>\n",
              "      <td>mscan</td>\n",
              "    </tr>\n",
              "  </tbody>\n",
              "</table>\n",
              "<p>22544 rows × 121 columns</p>\n",
              "</div>\n",
              "      <button class=\"colab-df-convert\" onclick=\"convertToInteractive('df-d4990b3a-34d2-4326-be16-08415cc086d2')\"\n",
              "              title=\"Convert this dataframe to an interactive table.\"\n",
              "              style=\"display:none;\">\n",
              "        \n",
              "  <svg xmlns=\"http://www.w3.org/2000/svg\" height=\"24px\"viewBox=\"0 0 24 24\"\n",
              "       width=\"24px\">\n",
              "    <path d=\"M0 0h24v24H0V0z\" fill=\"none\"/>\n",
              "    <path d=\"M18.56 5.44l.94 2.06.94-2.06 2.06-.94-2.06-.94-.94-2.06-.94 2.06-2.06.94zm-11 1L8.5 8.5l.94-2.06 2.06-.94-2.06-.94L8.5 2.5l-.94 2.06-2.06.94zm10 10l.94 2.06.94-2.06 2.06-.94-2.06-.94-.94-2.06-.94 2.06-2.06.94z\"/><path d=\"M17.41 7.96l-1.37-1.37c-.4-.4-.92-.59-1.43-.59-.52 0-1.04.2-1.43.59L10.3 9.45l-7.72 7.72c-.78.78-.78 2.05 0 2.83L4 21.41c.39.39.9.59 1.41.59.51 0 1.02-.2 1.41-.59l7.78-7.78 2.81-2.81c.8-.78.8-2.07 0-2.86zM5.41 20L4 18.59l7.72-7.72 1.47 1.35L5.41 20z\"/>\n",
              "  </svg>\n",
              "      </button>\n",
              "      \n",
              "  <style>\n",
              "    .colab-df-container {\n",
              "      display:flex;\n",
              "      flex-wrap:wrap;\n",
              "      gap: 12px;\n",
              "    }\n",
              "\n",
              "    .colab-df-convert {\n",
              "      background-color: #E8F0FE;\n",
              "      border: none;\n",
              "      border-radius: 50%;\n",
              "      cursor: pointer;\n",
              "      display: none;\n",
              "      fill: #1967D2;\n",
              "      height: 32px;\n",
              "      padding: 0 0 0 0;\n",
              "      width: 32px;\n",
              "    }\n",
              "\n",
              "    .colab-df-convert:hover {\n",
              "      background-color: #E2EBFA;\n",
              "      box-shadow: 0px 1px 2px rgba(60, 64, 67, 0.3), 0px 1px 3px 1px rgba(60, 64, 67, 0.15);\n",
              "      fill: #174EA6;\n",
              "    }\n",
              "\n",
              "    [theme=dark] .colab-df-convert {\n",
              "      background-color: #3B4455;\n",
              "      fill: #D2E3FC;\n",
              "    }\n",
              "\n",
              "    [theme=dark] .colab-df-convert:hover {\n",
              "      background-color: #434B5C;\n",
              "      box-shadow: 0px 1px 3px 1px rgba(0, 0, 0, 0.15);\n",
              "      filter: drop-shadow(0px 1px 2px rgba(0, 0, 0, 0.3));\n",
              "      fill: #FFFFFF;\n",
              "    }\n",
              "  </style>\n",
              "\n",
              "      <script>\n",
              "        const buttonEl =\n",
              "          document.querySelector('#df-d4990b3a-34d2-4326-be16-08415cc086d2 button.colab-df-convert');\n",
              "        buttonEl.style.display =\n",
              "          google.colab.kernel.accessAllowed ? 'block' : 'none';\n",
              "\n",
              "        async function convertToInteractive(key) {\n",
              "          const element = document.querySelector('#df-d4990b3a-34d2-4326-be16-08415cc086d2');\n",
              "          const dataTable =\n",
              "            await google.colab.kernel.invokeFunction('convertToInteractive',\n",
              "                                                     [key], {});\n",
              "          if (!dataTable) return;\n",
              "\n",
              "          const docLinkHtml = 'Like what you see? Visit the ' +\n",
              "            '<a target=\"_blank\" href=https://colab.research.google.com/notebooks/data_table.ipynb>data table notebook</a>'\n",
              "            + ' to learn more about interactive tables.';\n",
              "          element.innerHTML = '';\n",
              "          dataTable['output_type'] = 'display_data';\n",
              "          await google.colab.output.renderOutput(dataTable, element);\n",
              "          const docLink = document.createElement('div');\n",
              "          docLink.innerHTML = docLinkHtml;\n",
              "          element.appendChild(docLink);\n",
              "        }\n",
              "      </script>\n",
              "    </div>\n",
              "  </div>\n",
              "  "
            ]
          },
          "metadata": {},
          "execution_count": 12
        }
      ]
    },
    {
      "cell_type": "code",
      "source": [
        "#fixing labels\n",
        "def fix_labels(data):\n",
        "  dos_class =[\"apache2\",\"back\",\"land\",\"neptune\",\"mailbomb\",\"pod\",\"processtable\",\"smurf\",\"teardrop\",\"udpstorm\",\"worm\"]\n",
        "  R2L_class =[\"ftp_write\",\"guess_passwd\",\"imap\",\"multihop\",\"named\",\"phf\",\"sendmail\",\"snmpgetattack\",\"spy\",\"snmpguess\",\"warezclient\",\"warezmaster\",\"xlock\",\"xsnoop\"]\n",
        "  Probe_class =[\"ipsweep\",\"mscan\",\"nmap\",\"portsweep\",\"saint\",\"satan\"]\n",
        "  U2R_class =[\"buffer_overflow\",\"loadmodule\",\"perl\",\"ps\",\"rootkit\",\"sqlattack\",\"xterm\",\"httptunnel\"]\n",
        "\n",
        "  for atk in dos_class:\n",
        "    data.loc[data['class'] == atk, 'class'] = 'DoS'\n",
        "  for atk in R2L_class:\n",
        "    data.loc[data['class'] == atk, 'class'] = 'R2L'\n",
        "  for atk in Probe_class:\n",
        "    data.loc[data['class'] == atk, 'class'] = 'Probe'\n",
        "  for atk in U2R_class :\n",
        "    data.loc[data['class'] == atk, 'class'] = \"U2R\"\n",
        "\n",
        "  print(\"new labels:\\n\", data['class'].value_counts())\n",
        "  return data\n",
        "\n",
        "\n",
        "print(\"===== Train_Set_Label s=====\")\n",
        "train_set = fix_labels(train_set)\n",
        "\n",
        "print(\"\\n\\n===== Test_Set_Labels =====\")\n",
        "test_set = fix_labels(test_set)\n",
        "\n",
        "print(\"\\n\\n===== Test_Set_Labels =====\")\n",
        "val_set = fix_labels(val_set)\n",
        "\n",
        "def multiclass_labeling(dataframe):\n",
        "  dataframe.loc[dataframe['class'] == \"normal\", \"class\"]= 0\n",
        "  dataframe.loc[dataframe['class'] == \"DoS\", \"class\"]= 1\n",
        "  dataframe.loc[dataframe['class'] == \"Probe\", \"class\"]= 2\n",
        "  dataframe.loc[dataframe['class'] == \"R2L\", \"class\"]= 3\n",
        "  dataframe.loc[dataframe['class'] == \"U2R\", \"class\"]= 4\n",
        "  return dataframe\n",
        "\n",
        "\n",
        "\n",
        "\n",
        "train_set = multiclass_labeling(train_set)\n",
        "test_set = multiclass_labeling(test_set)\n",
        "val_set = multiclass_labeling(val_set)"
      ],
      "metadata": {
        "colab": {
          "base_uri": "https://localhost:8080/"
        },
        "id": "eZPtFWgAX-sY",
        "outputId": "d7adb088-3d6a-48d4-9df7-f389e087140d"
      },
      "execution_count": null,
      "outputs": [
        {
          "output_type": "stream",
          "name": "stdout",
          "text": [
            "===== Train_Set_Label s=====\n",
            "new labels:\n",
            " normal    47260\n",
            "DoS       32102\n",
            "Probe      8116\n",
            "R2L         668\n",
            "U2R          35\n",
            "Name: class, dtype: int64\n",
            "\n",
            "\n",
            "===== Test_Set_Labels =====\n",
            "new labels:\n",
            " normal    9711\n",
            "DoS       7460\n",
            "R2L       2752\n",
            "Probe     2421\n",
            "U2R        200\n",
            "Name: class, dtype: int64\n",
            "\n",
            "\n",
            "===== Test_Set_Labels =====\n",
            "new labels:\n",
            " normal    20083\n",
            "DoS       13825\n",
            "Probe      3540\n",
            "R2L         327\n",
            "U2R          17\n",
            "Name: class, dtype: int64\n"
          ]
        }
      ]
    },
    {
      "cell_type": "code",
      "source": [
        "\"\"\"# Binarisation\n",
        "y_train = m_train.apply(lambda x: 0 if x == 'normal' else 1)\n",
        "y_test = m_test.apply(lambda x: 0 if x == 'normal' else 1)\n",
        "y_val = m_val.apply(lambda x: 0 if x == 'normal' else 1)\n",
        "\n",
        "\"\"\""
      ],
      "metadata": {
        "colab": {
          "base_uri": "https://localhost:8080/",
          "height": 35
        },
        "id": "JDbx_Jh4YV0L",
        "outputId": "4f81f516-dad2-4d82-8938-b249d31989b7"
      },
      "execution_count": null,
      "outputs": [
        {
          "output_type": "execute_result",
          "data": {
            "text/plain": [
              "\"# Binarisation\\ny_train = m_train.apply(lambda x: 0 if x == 'normal' else 1)\\ny_test = m_test.apply(lambda x: 0 if x == 'normal' else 1)\\ny_val = m_val.apply(lambda x: 0 if x == 'normal' else 1)\\n\\n\""
            ],
            "application/vnd.google.colaboratory.intrinsic+json": {
              "type": "string"
            }
          },
          "metadata": {},
          "execution_count": 14
        }
      ]
    },
    {
      "cell_type": "code",
      "source": [
        "train_set[\"class\"].value_counts()"
      ],
      "metadata": {
        "colab": {
          "base_uri": "https://localhost:8080/"
        },
        "id": "M71BZgcwbBnv",
        "outputId": "652a4c0c-f721-45c6-b7ad-3e988925e827"
      },
      "execution_count": null,
      "outputs": [
        {
          "output_type": "execute_result",
          "data": {
            "text/plain": [
              "0    47260\n",
              "1    32102\n",
              "2     8116\n",
              "3      668\n",
              "4       35\n",
              "Name: class, dtype: int64"
            ]
          },
          "metadata": {},
          "execution_count": 15
        }
      ]
    },
    {
      "cell_type": "markdown",
      "source": [
        "### Data Cleaning:\n",
        "\n"
      ],
      "metadata": {
        "id": "qVVtvBmvD1PX"
      }
    },
    {
      "cell_type": "code",
      "source": [
        "#Data Cleaning:\n",
        "\n",
        "#suppression des instances dupliquées\n",
        "train_set = train_set.drop_duplicates(subset=train_set.columns.difference(['class']))\n",
        "val_set = val_set.drop_duplicates(subset=val_set.columns.difference(['class']))\n",
        "test_set = test_set.drop_duplicates(subset=test_set.columns.difference(['class']))\n"
      ],
      "metadata": {
        "id": "5K4CqsT3D8Mq"
      },
      "execution_count": null,
      "outputs": []
    },
    {
      "cell_type": "code",
      "source": [
        "print(test_set.shape)\n",
        "print(val_set.shape)\n",
        "print(train_set.shape)"
      ],
      "metadata": {
        "colab": {
          "base_uri": "https://localhost:8080/"
        },
        "id": "_9FEOYJDE0eu",
        "outputId": "dd951187-a750-427d-89b3-24a0ab0ba5b7"
      },
      "execution_count": null,
      "outputs": [
        {
          "output_type": "stream",
          "name": "stdout",
          "text": [
            "(22487, 121)\n",
            "(37791, 121)\n",
            "(88177, 121)\n"
          ]
        }
      ]
    },
    {
      "cell_type": "code",
      "source": [
        "# colonnes ayant la meme valuers\n",
        "unique_counts = train_set.nunique()\n",
        "columns = unique_counts[unique_counts == 1].index.tolist()\n",
        "if columns != [] :\n",
        "  train_set = train_set.drop(columns = columns)\n",
        "  val_set = val_set.drop(columns = columns)\n",
        "  test_set = test_set.drop(columns = columns)\n",
        "  print(\"dropped :\", columns)"
      ],
      "metadata": {
        "colab": {
          "base_uri": "https://localhost:8080/"
        },
        "id": "Jo-fQ0MjE1IY",
        "outputId": "444a0f3e-48b5-4200-d57f-5bb7b67c7a40"
      },
      "execution_count": null,
      "outputs": [
        {
          "output_type": "stream",
          "name": "stdout",
          "text": [
            "dropped : ['num_outbound_cmds', 'service_aol', 'service_http_2784', 'service_http_8001']\n"
          ]
        }
      ]
    },
    {
      "cell_type": "code",
      "source": [
        "test_set[\"class\"].value_counts()"
      ],
      "metadata": {
        "colab": {
          "base_uri": "https://localhost:8080/"
        },
        "id": "NL0M1qaVGGRH",
        "outputId": "d279609f-d93d-467f-f659-b1b622f2642f"
      },
      "execution_count": null,
      "outputs": [
        {
          "output_type": "execute_result",
          "data": {
            "text/plain": [
              "0    9682\n",
              "1    7460\n",
              "3    2727\n",
              "2    2418\n",
              "4     200\n",
              "Name: class, dtype: int64"
            ]
          },
          "metadata": {},
          "execution_count": 19
        }
      ]
    },
    {
      "cell_type": "code",
      "source": [
        "import numpy as np\n",
        "train_set['class'] = train_set['class'].astype(np.int32)\n",
        "val_set['class'] = val_set['class'].astype(np.int32)\n",
        "test_set['class'] = test_set['class'].astype(np.int32)"
      ],
      "metadata": {
        "id": "Fvvl3WGkM1Iz"
      },
      "execution_count": null,
      "outputs": []
    },
    {
      "cell_type": "code",
      "source": [],
      "metadata": {
        "id": "d-nb_iCYUNVE"
      },
      "execution_count": null,
      "outputs": []
    },
    {
      "cell_type": "code",
      "source": [
        "train_set.to_csv(\"/content/drive/MyDrive/Colab Notebooks/nslkdd/KDDTrain_multi_noncombined.txt\", index = False)\n",
        "val_set.to_csv(\"/content/drive/MyDrive/Colab Notebooks/nslkdd/KDDVal_multi_noncombined.txt\", index = False)\n",
        "test_set.to_csv(\"/content/drive/MyDrive/Colab Notebooks/nslkdd/KDDTest_multi_noncombined.txt\", index = False)"
      ],
      "metadata": {
        "id": "4dx4FzmeO5_j"
      },
      "execution_count": null,
      "outputs": []
    },
    {
      "cell_type": "markdown",
      "source": [
        "# BINAIRE"
      ],
      "metadata": {
        "id": "fgWYzpmmNuAW"
      }
    },
    {
      "cell_type": "code",
      "source": [
        "def binary_labeling(dataframe):\n",
        "    data = dataframe.copy()  # Make a copy of the dataframe\n",
        "    data.loc[data['class'] != 0, \"class\"] = 1  # Modify the copy of the dataframe\n",
        "    return data"
      ],
      "metadata": {
        "id": "LsutjoQDN4YQ"
      },
      "execution_count": null,
      "outputs": []
    },
    {
      "cell_type": "code",
      "source": [
        "binary_test_dataset = binary_labeling(test_set)\n",
        "binary_test_dataset[\"class\"].value_counts()"
      ],
      "metadata": {
        "colab": {
          "base_uri": "https://localhost:8080/"
        },
        "id": "o7xpYgcdNx5l",
        "outputId": "0ca0e303-d13d-4b0c-83b7-83da64a662fa"
      },
      "execution_count": null,
      "outputs": [
        {
          "output_type": "execute_result",
          "data": {
            "text/plain": [
              "1    12805\n",
              "0     9682\n",
              "Name: class, dtype: int64"
            ]
          },
          "metadata": {},
          "execution_count": 23
        }
      ]
    },
    {
      "cell_type": "code",
      "source": [
        "binary_test_dataset.to_csv('/content/drive/MyDrive/Colab Notebooks/nslkdd/KDDTest_bin_noncombined.txt', index=False)"
      ],
      "metadata": {
        "id": "w4-GLYucN_6T"
      },
      "execution_count": null,
      "outputs": []
    },
    {
      "cell_type": "code",
      "source": [],
      "metadata": {
        "id": "pjIX64YyQYgd"
      },
      "execution_count": null,
      "outputs": []
    },
    {
      "cell_type": "code",
      "source": [
        "binary_validation_dataset = binary_labeling(val_set)\n",
        "binary_validation_dataset[\"class\"].value_counts()"
      ],
      "metadata": {
        "colab": {
          "base_uri": "https://localhost:8080/"
        },
        "id": "Ku8RCTggP0Wj",
        "outputId": "5e37f67d-b4bd-4723-daf6-ba183406cc3e"
      },
      "execution_count": null,
      "outputs": [
        {
          "output_type": "execute_result",
          "data": {
            "text/plain": [
              "0    20083\n",
              "1    17708\n",
              "Name: class, dtype: int64"
            ]
          },
          "metadata": {},
          "execution_count": 25
        }
      ]
    },
    {
      "cell_type": "code",
      "source": [
        "binary_validation_dataset.to_csv('/content/drive/MyDrive/Colab Notebooks/nslkdd/KDDVal_bin_noncombined.txt', index=False)"
      ],
      "metadata": {
        "id": "fpx-YqrFQC12"
      },
      "execution_count": null,
      "outputs": []
    },
    {
      "cell_type": "code",
      "source": [],
      "metadata": {
        "id": "ZVwcmjjBQXrd"
      },
      "execution_count": null,
      "outputs": []
    },
    {
      "cell_type": "code",
      "source": [
        "binary_train_dataset = binary_labeling(train_set)\n",
        "binary_train_dataset[\"class\"].value_counts()"
      ],
      "metadata": {
        "colab": {
          "base_uri": "https://localhost:8080/"
        },
        "id": "T98ACV35P3p4",
        "outputId": "f88e79bb-7301-498e-8a31-bf3bb6fa7c72"
      },
      "execution_count": null,
      "outputs": [
        {
          "output_type": "execute_result",
          "data": {
            "text/plain": [
              "0    47259\n",
              "1    40918\n",
              "Name: class, dtype: int64"
            ]
          },
          "metadata": {},
          "execution_count": 27
        }
      ]
    },
    {
      "cell_type": "code",
      "source": [
        "binary_train_dataset.to_csv('/content/drive/MyDrive/Colab Notebooks/nslkdd/KDDTrain_bin_noncombined.txt', index=False)"
      ],
      "metadata": {
        "id": "fanwlcn7Qc6r"
      },
      "execution_count": null,
      "outputs": []
    },
    {
      "cell_type": "markdown",
      "source": [
        "# AUGMENTATION w/ multi"
      ],
      "metadata": {
        "id": "1kJ5G8FyOA6g"
      }
    },
    {
      "cell_type": "code",
      "source": [
        "# # Filter instances with class labels \"R2L\" and \"U2R\" and \"Probe\"\n",
        "# tminority_classes = train_set[train_set['class'].isin([2, 3, 4])]\n",
        "# tminority_classes\n",
        "# tminority_x = tminority_classes.drop(\"class\", axis = 1)\n",
        "# tminority_y = tminority_classes[\"class\"]\n"
      ],
      "metadata": {
        "id": "w2r7_fIPPveW"
      },
      "execution_count": null,
      "outputs": []
    },
    {
      "cell_type": "code",
      "source": [
        "# tminority_y = tminority_y.astype(\"int32\")"
      ],
      "metadata": {
        "id": "cTOezyc0WBth"
      },
      "execution_count": null,
      "outputs": []
    },
    {
      "cell_type": "code",
      "source": [
        "# from imblearn.over_sampling import SVMSMOTE\n",
        "# from sklearn.svm import SVC\n",
        "\n",
        "# svm_smote = SVMSMOTE(random_state=42)\n",
        "\n",
        "# x_train_res, y_train_res = svm_smote.fit_resample(tminority_x, tminority_y)\n",
        "\n",
        "# train_set_augmented = pd.concat([x_train_res, y_train_res], axis = 1)\n",
        "# train_set_augmented.drop_duplicates(inplace=True)\n",
        "# train_set_augmented.to_csv(\"/content/drive/MyDrive/Colab Notebooks/nslkdd/KDDTrain_multi_noncombined_augmented.txt\", index = False)"
      ],
      "metadata": {
        "id": "TQeKk90dS-qC"
      },
      "execution_count": null,
      "outputs": []
    },
    {
      "cell_type": "code",
      "source": [
        "train_set[\"class\"].value_counts()"
      ],
      "metadata": {
        "colab": {
          "base_uri": "https://localhost:8080/"
        },
        "id": "8Aj_FmgKTBuZ",
        "outputId": "04a25d4b-33cf-4fef-a82c-aa7d591bba05"
      },
      "execution_count": null,
      "outputs": [
        {
          "output_type": "execute_result",
          "data": {
            "text/plain": [
              "0    47259\n",
              "1    32102\n",
              "2     8113\n",
              "3      668\n",
              "4       35\n",
              "Name: class, dtype: int64"
            ]
          },
          "metadata": {},
          "execution_count": 32
        }
      ]
    },
    {
      "cell_type": "code",
      "source": [],
      "metadata": {
        "id": "twmWe-KzTEVn"
      },
      "execution_count": null,
      "outputs": []
    },
    {
      "cell_type": "code",
      "source": [
        "from imblearn.over_sampling import SVMSMOTE\n",
        "from sklearn.svm import SVC\n",
        "\n",
        "#Specify the desired class ratios or specific classes to resample\n",
        "sampling_strategy = {\n",
        "    2: 20000,  # Number of samples for class Probe\n",
        "    3: 20000,  # Number of samples for class R2L\n",
        "    4: 20000   # Number of samples for class U2R\n",
        "}\n",
        "\n",
        "# Create an instance of SMOTE with specified class ratios\n",
        "svm_smote = SVMSMOTE(random_state=42, sampling_strategy = {2: 20000, 3: 20000, 4: 20000})\n",
        "\n",
        "x_train_res, y_train_res = svm_smote.fit_resample(train_set.drop('class', axis=1), train_set['class'])\n",
        "# !!!! we must put all the dataset in fit, not just(minority_x, minority_y) !!!!"
      ],
      "metadata": {
        "id": "8hNQmQqXQ1kp"
      },
      "execution_count": null,
      "outputs": []
    },
    {
      "cell_type": "code",
      "source": [
        "train_set_augmented = pd.concat([x_train_res, y_train_res], axis = 1)\n",
        "train_set_augmented.drop_duplicates(inplace=True)\n",
        "train_set_augmented.to_csv(\"/content/drive/MyDrive/Colab Notebooks/nslkdd/KDDTrain_multi_noncombined_augmented.txt\", index = False)"
      ],
      "metadata": {
        "id": "gKc_6O4sR_XA"
      },
      "execution_count": null,
      "outputs": []
    },
    {
      "cell_type": "code",
      "source": [
        " print(\"labels nbr:\\n\", y_train_res.value_counts())"
      ],
      "metadata": {
        "colab": {
          "base_uri": "https://localhost:8080/"
        },
        "id": "FLiMHErISaPr",
        "outputId": "9bca08b3-61b8-4d13-aad9-a43876493b09"
      },
      "execution_count": null,
      "outputs": [
        {
          "output_type": "stream",
          "name": "stdout",
          "text": [
            "labels nbr:\n",
            " 0    47259\n",
            "1    32102\n",
            "2    20000\n",
            "3    20000\n",
            "4    20000\n",
            "Name: class, dtype: int64\n"
          ]
        }
      ]
    },
    {
      "cell_type": "code",
      "source": [
        "train_set_augmented['class'].value_counts().plot(kind = \"bar\")"
      ],
      "metadata": {
        "colab": {
          "base_uri": "https://localhost:8080/",
          "height": 442
        },
        "id": "qgKx_5FmVL9g",
        "outputId": "350d177c-8977-4d2f-a9a9-95279c9bdc43"
      },
      "execution_count": null,
      "outputs": [
        {
          "output_type": "execute_result",
          "data": {
            "text/plain": [
              "<Axes: >"
            ]
          },
          "metadata": {},
          "execution_count": 36
        },
        {
          "output_type": "display_data",
          "data": {
            "text/plain": [
              "<Figure size 640x480 with 1 Axes>"
            ],
            "image/png": "[encoded data removed]"
          },
          "metadata": {}
        }
      ]
    },
    {
      "cell_type": "code",
      "source": [
        "train_set_augmented['class'].value_counts()"
      ],
      "metadata": {
        "colab": {
          "base_uri": "https://localhost:8080/"
        },
        "id": "iePEyt43Va10",
        "outputId": "78bcc73d-f5ad-4c3b-e738-3169cb2b5775"
      },
      "execution_count": null,
      "outputs": [
        {
          "output_type": "execute_result",
          "data": {
            "text/plain": [
              "0    47259\n",
              "1    32102\n",
              "4    20000\n",
              "3    19998\n",
              "2    19975\n",
              "Name: class, dtype: int64"
            ]
          },
          "metadata": {},
          "execution_count": 37
        }
      ]
    },
    {
      "cell_type": "code",
      "source": [
        "# from imblearn.under_sampling import RandomUnderSampler\n",
        "\n",
        "# # Assuming you have X_train and y_train as your training data\n",
        "\n",
        "# # Instantiate the RandomUnderSampler\n",
        "# rus = RandomUnderSampler()\n",
        "\n",
        "\n",
        "# # Perform undersampling\n",
        "# x_train_resampled, y_train_resampled = rus.fit_resample(train_set_augmented.drop('class', axis = 1), train_set_augmented['class'])\n",
        "# train_set_resampled = pd.concat([x_train_resampled, y_train_resampled], axis = 1)\n",
        "# train_set_resampled.to_csv(\"/content/drive/MyDrive/Colab Notebooks/nslkdd/KDDTrain_multi_noncombined_resampled.txt\", index = False)"
      ],
      "metadata": {
        "id": "UqGWSbATPvdE"
      },
      "execution_count": null,
      "outputs": []
    },
    {
      "cell_type": "code",
      "source": [],
      "metadata": {
        "id": "BaLHZLeOVprj"
      },
      "execution_count": null,
      "outputs": []
    },
    {
      "cell_type": "markdown",
      "source": [
        "## over + under sampling multi"
      ],
      "metadata": {
        "id": "JC9PtqX8-TYY"
      }
    },
    {
      "cell_type": "code",
      "source": [
        "from imblearn.under_sampling import RandomUnderSampler\n",
        "\n",
        "# Specify the desired class ratios or specific classes to resample\n",
        "sampling_strategy = {\n",
        "    0: 20000,  # Number of samples for class normal\n",
        "    1: 20000,  # Number of samples for class DoS\n",
        "}\n",
        "\n",
        "# Assuming you have X_train and y_train as your training data\n",
        "\n",
        "# Instantiate the RandomUnderSampler\n",
        "rus = RandomUnderSampler(random_state=42, sampling_strategy=sampling_strategy)\n",
        "\n",
        "\n",
        "# Perform undersampling\n",
        "X_train_resampled, y_train_resampled = rus.fit_resample(train_set_augmented.drop('class', axis = 1), train_set_augmented['class'])"
      ],
      "metadata": {
        "id": "rS2aB-aSt7Kj"
      },
      "execution_count": null,
      "outputs": []
    },
    {
      "cell_type": "code",
      "source": [
        "y_train_resampled.value_counts()"
      ],
      "metadata": {
        "id": "n49-qQgMwmsr",
        "colab": {
          "base_uri": "https://localhost:8080/"
        },
        "outputId": "6977e65f-8e93-43c5-a557-d3238cd53962"
      },
      "execution_count": null,
      "outputs": [
        {
          "output_type": "execute_result",
          "data": {
            "text/plain": [
              "0    20000\n",
              "1    20000\n",
              "4    20000\n",
              "3    19998\n",
              "2    19975\n",
              "Name: class, dtype: int64"
            ]
          },
          "metadata": {},
          "execution_count": 40
        }
      ]
    },
    {
      "cell_type": "code",
      "source": [
        "undersampled_train_data = pd.concat((X_train_resampled, y_train_resampled), axis = 1 )"
      ],
      "metadata": {
        "id": "N66IUB8Hw9RT"
      },
      "execution_count": null,
      "outputs": []
    },
    {
      "cell_type": "code",
      "source": [
        "undersampled_train_data"
      ],
      "metadata": {
        "id": "Wf9GgZGsxQo6",
        "colab": {
          "base_uri": "https://localhost:8080/",
          "height": 661
        },
        "outputId": "6e64af20-4f11-45a5-bf00-cf4298d0d387"
      },
      "execution_count": null,
      "outputs": [
        {
          "output_type": "execute_result",
          "data": {
            "text/plain": [
              "       duration     src_bytes     dst_bytes  land  wrong_fragment  urgent  \\\n",
              "0      0.000000  3.188489e-08  9.695120e-08   0.0             0.0     0.0   \n",
              "1      0.000000  6.650899e-06  0.000000e+00   0.0             0.0     0.0   \n",
              "2      0.000000  2.144984e-07  3.290234e-07   0.0             0.0     0.0   \n",
              "3      0.000000  3.260955e-08  6.030823e-08   0.0             0.0     0.0   \n",
              "4      0.000000  3.043558e-08  3.206260e-08   0.0             0.0     0.0   \n",
              "...         ...           ...           ...   ...             ...     ...   \n",
              "99968  0.004250  1.115881e-06  2.162885e-06   0.0             0.0     0.0   \n",
              "99969  0.001056  1.694989e-06  2.903756e-06   0.0             0.0     0.0   \n",
              "99970  0.001107  1.740625e-06  2.913143e-06   0.0             0.0     0.0   \n",
              "99971  0.001465  1.686374e-06  3.240436e-06   0.0             0.0     0.0   \n",
              "99972  0.003663  1.137180e-06  2.064863e-06   0.0             0.0     0.0   \n",
              "\n",
              "            hot  num_failed_logins  logged_in  num_compromised  ...  \\\n",
              "0      0.000000                0.0        0.0         0.000000  ...   \n",
              "1      0.000000                0.0        1.0         0.000000  ...   \n",
              "2      0.000000                0.0        1.0         0.000000  ...   \n",
              "3      0.000000                0.0        0.0         0.000000  ...   \n",
              "4      0.000000                0.0        0.0         0.000000  ...   \n",
              "...         ...                ...        ...              ...  ...   \n",
              "99968  0.038961                0.0        1.0         0.000541  ...   \n",
              "99969  0.038961                0.0        1.0         0.000305  ...   \n",
              "99970  0.038961                0.0        1.0         0.000267  ...   \n",
              "99971  0.038961                0.0        1.0         0.000116  ...   \n",
              "99972  0.038961                0.0        1.0         0.000535  ...   \n",
              "\n",
              "       flag_RSTO  flag_RSTOS0  flag_RSTR  flag_S0  flag_S1  flag_S2  flag_S3  \\\n",
              "0            0.0          0.0        0.0      0.0      0.0      0.0      0.0   \n",
              "1            0.0          0.0        0.0      0.0      0.0      0.0      0.0   \n",
              "2            0.0          0.0        0.0      0.0      0.0      0.0      0.0   \n",
              "3            0.0          0.0        0.0      0.0      0.0      0.0      0.0   \n",
              "4            0.0          0.0        0.0      0.0      0.0      0.0      0.0   \n",
              "...          ...          ...        ...      ...      ...      ...      ...   \n",
              "99968        0.0          0.0        0.0      0.0      0.0      0.0      0.0   \n",
              "99969        0.0          0.0        0.0      0.0      0.0      0.0      0.0   \n",
              "99970        0.0          0.0        0.0      0.0      0.0      0.0      0.0   \n",
              "99971        0.0          0.0        0.0      0.0      0.0      0.0      0.0   \n",
              "99972        0.0          0.0        0.0      0.0      0.0      0.0      0.0   \n",
              "\n",
              "       flag_SF  flag_SH  class  \n",
              "0          1.0      0.0      0  \n",
              "1          1.0      0.0      0  \n",
              "2          1.0      0.0      0  \n",
              "3          1.0      0.0      0  \n",
              "4          1.0      0.0      0  \n",
              "...        ...      ...    ...  \n",
              "99968      1.0      0.0      4  \n",
              "99969      1.0      0.0      4  \n",
              "99970      1.0      0.0      4  \n",
              "99971      1.0      0.0      4  \n",
              "99972      1.0      0.0      4  \n",
              "\n",
              "[99973 rows x 117 columns]"
            ],
            "text/html": [
              "\n",
              "  <div id=\"df-de60ecb5-1f1b-4f51-a143-63b4a1f1a83a\">\n",
              "    <div class=\"colab-df-container\">\n",
              "      <div>\n",
              "<style scoped>\n",
              "    .dataframe tbody tr th:only-of-type {\n",
              "        vertical-align: middle;\n",
              "    }\n",
              "\n",
              "    .dataframe tbody tr th {\n",
              "        vertical-align: top;\n",
              "    }\n",
              "\n",
              "    .dataframe thead th {\n",
              "        text-align: right;\n",
              "    }\n",
              "</style>\n",
              "<table border=\"1\" class=\"dataframe\">\n",
              "  <thead>\n",
              "    <tr style=\"text-align: right;\">\n",
              "      <th></th>\n",
              "      <th>duration</th>\n",
              "      <th>src_bytes</th>\n",
              "      <th>dst_bytes</th>\n",
              "      <th>land</th>\n",
              "      <th>wrong_fragment</th>\n",
              "      <th>urgent</th>\n",
              "      <th>hot</th>\n",
              "      <th>num_failed_logins</th>\n",
              "      <th>logged_in</th>\n",
              "      <th>num_compromised</th>\n",
              "      <th>...</th>\n",
              "      <th>flag_RSTO</th>\n",
              "      <th>flag_RSTOS0</th>\n",
              "      <th>flag_RSTR</th>\n",
              "      <th>flag_S0</th>\n",
              "      <th>flag_S1</th>\n",
              "      <th>flag_S2</th>\n",
              "      <th>flag_S3</th>\n",
              "      <th>flag_SF</th>\n",
              "      <th>flag_SH</th>\n",
              "      <th>class</th>\n",
              "    </tr>\n",
              "  </thead>\n",
              "  <tbody>\n",
              "    <tr>\n",
              "      <th>0</th>\n",
              "      <td>0.000000</td>\n",
              "      <td>3.188489e-08</td>\n",
              "      <td>9.695120e-08</td>\n",
              "      <td>0.0</td>\n",
              "      <td>0.0</td>\n",
              "      <td>0.0</td>\n",
              "      <td>0.000000</td>\n",
              "      <td>0.0</td>\n",
              "      <td>0.0</td>\n",
              "      <td>0.000000</td>\n",
              "      <td>...</td>\n",
              "      <td>0.0</td>\n",
              "      <td>0.0</td>\n",
              "      <td>0.0</td>\n",
              "      <td>0.0</td>\n",
              "      <td>0.0</td>\n",
              "      <td>0.0</td>\n",
              "      <td>0.0</td>\n",
              "      <td>1.0</td>\n",
              "      <td>0.0</td>\n",
              "      <td>0</td>\n",
              "    </tr>\n",
              "    <tr>\n",
              "      <th>1</th>\n",
              "      <td>0.000000</td>\n",
              "      <td>6.650899e-06</td>\n",
              "      <td>0.000000e+00</td>\n",
              "      <td>0.0</td>\n",
              "      <td>0.0</td>\n",
              "      <td>0.0</td>\n",
              "      <td>0.000000</td>\n",
              "      <td>0.0</td>\n",
              "      <td>1.0</td>\n",
              "      <td>0.000000</td>\n",
              "      <td>...</td>\n",
              "      <td>0.0</td>\n",
              "      <td>0.0</td>\n",
              "      <td>0.0</td>\n",
              "      <td>0.0</td>\n",
              "      <td>0.0</td>\n",
              "      <td>0.0</td>\n",
              "      <td>0.0</td>\n",
              "      <td>1.0</td>\n",
              "      <td>0.0</td>\n",
              "      <td>0</td>\n",
              "    </tr>\n",
              "    <tr>\n",
              "      <th>2</th>\n",
              "      <td>0.000000</td>\n",
              "      <td>2.144984e-07</td>\n",
              "      <td>3.290234e-07</td>\n",
              "      <td>0.0</td>\n",
              "      <td>0.0</td>\n",
              "      <td>0.0</td>\n",
              "      <td>0.000000</td>\n",
              "      <td>0.0</td>\n",
              "      <td>1.0</td>\n",
              "      <td>0.000000</td>\n",
              "      <td>...</td>\n",
              "      <td>0.0</td>\n",
              "      <td>0.0</td>\n",
              "      <td>0.0</td>\n",
              "      <td>0.0</td>\n",
              "      <td>0.0</td>\n",
              "      <td>0.0</td>\n",
              "      <td>0.0</td>\n",
              "      <td>1.0</td>\n",
              "      <td>0.0</td>\n",
              "      <td>0</td>\n",
              "    </tr>\n",
              "    <tr>\n",
              "      <th>3</th>\n",
              "      <td>0.000000</td>\n",
              "      <td>3.260955e-08</td>\n",
              "      <td>6.030823e-08</td>\n",
              "      <td>0.0</td>\n",
              "      <td>0.0</td>\n",
              "      <td>0.0</td>\n",
              "      <td>0.000000</td>\n",
              "      <td>0.0</td>\n",
              "      <td>0.0</td>\n",
              "      <td>0.000000</td>\n",
              "      <td>...</td>\n",
              "      <td>0.0</td>\n",
              "      <td>0.0</td>\n",
              "      <td>0.0</td>\n",
              "      <td>0.0</td>\n",
              "      <td>0.0</td>\n",
              "      <td>0.0</td>\n",
              "      <td>0.0</td>\n",
              "      <td>1.0</td>\n",
              "      <td>0.0</td>\n",
              "      <td>0</td>\n",
              "    </tr>\n",
              "    <tr>\n",
              "      <th>4</th>\n",
              "      <td>0.000000</td>\n",
              "      <td>3.043558e-08</td>\n",
              "      <td>3.206260e-08</td>\n",
              "      <td>0.0</td>\n",
              "      <td>0.0</td>\n",
              "      <td>0.0</td>\n",
              "      <td>0.000000</td>\n",
              "      <td>0.0</td>\n",
              "      <td>0.0</td>\n",
              "      <td>0.000000</td>\n",
              "      <td>...</td>\n",
              "      <td>0.0</td>\n",
              "      <td>0.0</td>\n",
              "      <td>0.0</td>\n",
              "      <td>0.0</td>\n",
              "      <td>0.0</td>\n",
              "      <td>0.0</td>\n",
              "      <td>0.0</td>\n",
              "      <td>1.0</td>\n",
              "      <td>0.0</td>\n",
              "      <td>0</td>\n",
              "    </tr>\n",
              "    <tr>\n",
              "      <th>...</th>\n",
              "      <td>...</td>\n",
              "      <td>...</td>\n",
              "      <td>...</td>\n",
              "      <td>...</td>\n",
              "      <td>...</td>\n",
              "      <td>...</td>\n",
              "      <td>...</td>\n",
              "      <td>...</td>\n",
              "      <td>...</td>\n",
              "      <td>...</td>\n",
              "      <td>...</td>\n",
              "      <td>...</td>\n",
              "      <td>...</td>\n",
              "      <td>...</td>\n",
              "      <td>...</td>\n",
              "      <td>...</td>\n",
              "      <td>...</td>\n",
              "      <td>...</td>\n",
              "      <td>...</td>\n",
              "      <td>...</td>\n",
              "      <td>...</td>\n",
              "    </tr>\n",
              "    <tr>\n",
              "      <th>99968</th>\n",
              "      <td>0.004250</td>\n",
              "      <td>1.115881e-06</td>\n",
              "      <td>2.162885e-06</td>\n",
              "      <td>0.0</td>\n",
              "      <td>0.0</td>\n",
              "      <td>0.0</td>\n",
              "      <td>0.038961</td>\n",
              "      <td>0.0</td>\n",
              "      <td>1.0</td>\n",
              "      <td>0.000541</td>\n",
              "      <td>...</td>\n",
              "      <td>0.0</td>\n",
              "      <td>0.0</td>\n",
              "      <td>0.0</td>\n",
              "      <td>0.0</td>\n",
              "      <td>0.0</td>\n",
              "      <td>0.0</td>\n",
              "      <td>0.0</td>\n",
              "      <td>1.0</td>\n",
              "      <td>0.0</td>\n",
              "      <td>4</td>\n",
              "    </tr>\n",
              "    <tr>\n",
              "      <th>99969</th>\n",
              "      <td>0.001056</td>\n",
              "      <td>1.694989e-06</td>\n",
              "      <td>2.903756e-06</td>\n",
              "      <td>0.0</td>\n",
              "      <td>0.0</td>\n",
              "      <td>0.0</td>\n",
              "      <td>0.038961</td>\n",
              "      <td>0.0</td>\n",
              "      <td>1.0</td>\n",
              "      <td>0.000305</td>\n",
              "      <td>...</td>\n",
              "      <td>0.0</td>\n",
              "      <td>0.0</td>\n",
              "      <td>0.0</td>\n",
              "      <td>0.0</td>\n",
              "      <td>0.0</td>\n",
              "      <td>0.0</td>\n",
              "      <td>0.0</td>\n",
              "      <td>1.0</td>\n",
              "      <td>0.0</td>\n",
              "      <td>4</td>\n",
              "    </tr>\n",
              "    <tr>\n",
              "      <th>99970</th>\n",
              "      <td>0.001107</td>\n",
              "      <td>1.740625e-06</td>\n",
              "      <td>2.913143e-06</td>\n",
              "      <td>0.0</td>\n",
              "      <td>0.0</td>\n",
              "      <td>0.0</td>\n",
              "      <td>0.038961</td>\n",
              "      <td>0.0</td>\n",
              "      <td>1.0</td>\n",
              "      <td>0.000267</td>\n",
              "      <td>...</td>\n",
              "      <td>0.0</td>\n",
              "      <td>0.0</td>\n",
              "      <td>0.0</td>\n",
              "      <td>0.0</td>\n",
              "      <td>0.0</td>\n",
              "      <td>0.0</td>\n",
              "      <td>0.0</td>\n",
              "      <td>1.0</td>\n",
              "      <td>0.0</td>\n",
              "      <td>4</td>\n",
              "    </tr>\n",
              "    <tr>\n",
              "      <th>99971</th>\n",
              "      <td>0.001465</td>\n",
              "      <td>1.686374e-06</td>\n",
              "      <td>3.240436e-06</td>\n",
              "      <td>0.0</td>\n",
              "      <td>0.0</td>\n",
              "      <td>0.0</td>\n",
              "      <td>0.038961</td>\n",
              "      <td>0.0</td>\n",
              "      <td>1.0</td>\n",
              "      <td>0.000116</td>\n",
              "      <td>...</td>\n",
              "      <td>0.0</td>\n",
              "      <td>0.0</td>\n",
              "      <td>0.0</td>\n",
              "      <td>0.0</td>\n",
              "      <td>0.0</td>\n",
              "      <td>0.0</td>\n",
              "      <td>0.0</td>\n",
              "      <td>1.0</td>\n",
              "      <td>0.0</td>\n",
              "      <td>4</td>\n",
              "    </tr>\n",
              "    <tr>\n",
              "      <th>99972</th>\n",
              "      <td>0.003663</td>\n",
              "      <td>1.137180e-06</td>\n",
              "      <td>2.064863e-06</td>\n",
              "      <td>0.0</td>\n",
              "      <td>0.0</td>\n",
              "      <td>0.0</td>\n",
              "      <td>0.038961</td>\n",
              "      <td>0.0</td>\n",
              "      <td>1.0</td>\n",
              "      <td>0.000535</td>\n",
              "      <td>...</td>\n",
              "      <td>0.0</td>\n",
              "      <td>0.0</td>\n",
              "      <td>0.0</td>\n",
              "      <td>0.0</td>\n",
              "      <td>0.0</td>\n",
              "      <td>0.0</td>\n",
              "      <td>0.0</td>\n",
              "      <td>1.0</td>\n",
              "      <td>0.0</td>\n",
              "      <td>4</td>\n",
              "    </tr>\n",
              "  </tbody>\n",
              "</table>\n",
              "<p>99973 rows × 117 columns</p>\n",
              "</div>\n",
              "      <button class=\"colab-df-convert\" onclick=\"convertToInteractive('df-de60ecb5-1f1b-4f51-a143-63b4a1f1a83a')\"\n",
              "              title=\"Convert this dataframe to an interactive table.\"\n",
              "              style=\"display:none;\">\n",
              "        \n",
              "  <svg xmlns=\"http://www.w3.org/2000/svg\" height=\"24px\"viewBox=\"0 0 24 24\"\n",
              "       width=\"24px\">\n",
              "    <path d=\"M0 0h24v24H0V0z\" fill=\"none\"/>\n",
              "    <path d=\"M18.56 5.44l.94 2.06.94-2.06 2.06-.94-2.06-.94-.94-2.06-.94 2.06-2.06.94zm-11 1L8.5 8.5l.94-2.06 2.06-.94-2.06-.94L8.5 2.5l-.94 2.06-2.06.94zm10 10l.94 2.06.94-2.06 2.06-.94-2.06-.94-.94-2.06-.94 2.06-2.06.94z\"/><path d=\"M17.41 7.96l-1.37-1.37c-.4-.4-.92-.59-1.43-.59-.52 0-1.04.2-1.43.59L10.3 9.45l-7.72 7.72c-.78.78-.78 2.05 0 2.83L4 21.41c.39.39.9.59 1.41.59.51 0 1.02-.2 1.41-.59l7.78-7.78 2.81-2.81c.8-.78.8-2.07 0-2.86zM5.41 20L4 18.59l7.72-7.72 1.47 1.35L5.41 20z\"/>\n",
              "  </svg>\n",
              "      </button>\n",
              "      \n",
              "  <style>\n",
              "    .colab-df-container {\n",
              "      display:flex;\n",
              "      flex-wrap:wrap;\n",
              "      gap: 12px;\n",
              "    }\n",
              "\n",
              "    .colab-df-convert {\n",
              "      background-color: #E8F0FE;\n",
              "      border: none;\n",
              "      border-radius: 50%;\n",
              "      cursor: pointer;\n",
              "      display: none;\n",
              "      fill: #1967D2;\n",
              "      height: 32px;\n",
              "      padding: 0 0 0 0;\n",
              "      width: 32px;\n",
              "    }\n",
              "\n",
              "    .colab-df-convert:hover {\n",
              "      background-color: #E2EBFA;\n",
              "      box-shadow: 0px 1px 2px rgba(60, 64, 67, 0.3), 0px 1px 3px 1px rgba(60, 64, 67, 0.15);\n",
              "      fill: #174EA6;\n",
              "    }\n",
              "\n",
              "    [theme=dark] .colab-df-convert {\n",
              "      background-color: #3B4455;\n",
              "      fill: #D2E3FC;\n",
              "    }\n",
              "\n",
              "    [theme=dark] .colab-df-convert:hover {\n",
              "      background-color: #434B5C;\n",
              "      box-shadow: 0px 1px 3px 1px rgba(0, 0, 0, 0.15);\n",
              "      filter: drop-shadow(0px 1px 2px rgba(0, 0, 0, 0.3));\n",
              "      fill: #FFFFFF;\n",
              "    }\n",
              "  </style>\n",
              "\n",
              "      <script>\n",
              "        const buttonEl =\n",
              "          document.querySelector('#df-de60ecb5-1f1b-4f51-a143-63b4a1f1a83a button.colab-df-convert');\n",
              "        buttonEl.style.display =\n",
              "          google.colab.kernel.accessAllowed ? 'block' : 'none';\n",
              "\n",
              "        async function convertToInteractive(key) {\n",
              "          const element = document.querySelector('#df-de60ecb5-1f1b-4f51-a143-63b4a1f1a83a');\n",
              "          const dataTable =\n",
              "            await google.colab.kernel.invokeFunction('convertToInteractive',\n",
              "                                                     [key], {});\n",
              "          if (!dataTable) return;\n",
              "\n",
              "          const docLinkHtml = 'Like what you see? Visit the ' +\n",
              "            '<a target=\"_blank\" href=https://colab.research.google.com/notebooks/data_table.ipynb>data table notebook</a>'\n",
              "            + ' to learn more about interactive tables.';\n",
              "          element.innerHTML = '';\n",
              "          dataTable['output_type'] = 'display_data';\n",
              "          await google.colab.output.renderOutput(dataTable, element);\n",
              "          const docLink = document.createElement('div');\n",
              "          docLink.innerHTML = docLinkHtml;\n",
              "          element.appendChild(docLink);\n",
              "        }\n",
              "      </script>\n",
              "    </div>\n",
              "  </div>\n",
              "  "
            ]
          },
          "metadata": {},
          "execution_count": 42
        }
      ]
    },
    {
      "cell_type": "code",
      "source": [
        "#some stats\n",
        "#undersampled_train_data.describe().style.background_gradient(cmap='Blues').set_properties(**{'font-family':'Segoe UI'})"
      ],
      "metadata": {
        "id": "n8_snfPlcxuZ"
      },
      "execution_count": null,
      "outputs": []
    },
    {
      "cell_type": "code",
      "source": [
        "undersampled_train_data.to_csv(\"/content/drive/MyDrive/Colab Notebooks/nslkdd/KDDTrain_multi_noncombined_resampled.txt\", index = False)"
      ],
      "metadata": {
        "id": "bHhf84T5v4X3"
      },
      "execution_count": null,
      "outputs": []
    }
  ],
  "metadata": {
    "colab": {
      "provenance": [],
      "gpuType": "T4"
    },
    "kernelspec": {
      "display_name": "Python 3",
      "name": "python3"
    },
    "language_info": {
      "name": "python"
    },
    "accelerator": "GPU"
  },
  "nbformat": 4,
  "nbformat_minor": 0
}