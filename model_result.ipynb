{
 "cells": [
  {
   "attachments": {},
   "cell_type": "markdown",
   "metadata": {},
   "source": [
    "#### DNN1  val_accuracy @epoch 50 : 0.7851"
   ]
  },
  {
   "cell_type": "code",
   "execution_count": null,
   "metadata": {},
   "outputs": [],
   "source": [
    "#Model\n",
    "dnn = Sequential()\n",
    "dnn.add(Dense(256,input_dim=122,activation='relu'))  \n",
    "dnn.add(Dropout(0.01))\n",
    "dnn.add(Dense(128,activation='relu'))  \n",
    "dnn.add(Dropout(0.01))\n",
    "dnn.add(Dense(64,activation='relu'))  \n",
    "dnn.add(Dropout(0.01))\n",
    "dnn.add(Dense(48,activation='relu'))  \n",
    "dnn.add(Dropout(0.01))\n",
    "dnn.add(Dense(48, activation='relu'))\n",
    "dnn.add(Dropout(0.01))\n",
    "dnn.add(Dense(5, activation='softmax'))\n",
    "\n",
    "\n",
    "# Compile the model\n",
    "dnn.compile(loss=\"categorical_crossentropy\", optimizer=\"adam\",metrics=['accuracy'])"
   ]
  },
  {
   "attachments": {},
   "cell_type": "markdown",
   "metadata": {},
   "source": [
    "#### DNN2 val_accuracy @epoch 50 : 0.7824"
   ]
  },
  {
   "cell_type": "code",
   "execution_count": null,
   "metadata": {},
   "outputs": [],
   "source": [
    "dnn = Sequential()\n",
    "dnn.add(Dense(256,input_dim=121,activation='relu'))  \n",
    "dnn.add(Dropout(0.02))\n",
    "dnn.add(Dense(128,activation='relu'))  \n",
    "dnn.add(Dropout(0.01))\n",
    "dnn.add(Dense(64,activation='relu'))  \n",
    "dnn.add(Dense(48,activation='relu'))\n",
    "dnn.add(Dense(5, activation='softmax'))\n",
    "\n",
    "\n",
    "# Compile the model\n",
    "dnn.compile(loss=\"categorical_crossentropy\", optimizer=\"adam\",metrics=['accuracy'])\n"
   ]
  },
  {
   "cell_type": "code",
   "execution_count": null,
   "metadata": {},
   "outputs": [],
   "source": [
    "# good overall between 0.75 and 0.8\n",
    "dnn = Sequential()\n",
    "dnn.add(Dense(128, input_dim=121, activation='relu'))\n",
    "dnn.add(Dropout(0.2))\n",
    "dnn.add(Dense(64, activation='relu', kernel_regularizer=l1(0.01)))\n",
    "dnn.add(Dropout(0.1)) #0.01\n",
    "dnn.add(Dense(48, activation='relu', kernel_regularizer=l1(0.01))) \n",
    "dnn.add(Dropout(0.05))\n",
    "dnn.add(Dense(32, activation='relu'))\n",
    "dnn.add(Dropout(0.02)) #0.01\n",
    "dnn.add(Dense(5, activation='softmax'))\n",
    "\n",
    "# Compile the model\n",
    "dnn.compile(loss=\"categorical_crossentropy\", optimizer=\"adam\", metrics=['accuracy'])\n",
    "dnn.summary()"
   ]
  },
  {
   "cell_type": "code",
   "execution_count": null,
   "metadata": {},
   "outputs": [],
   "source": [
    "#the best overall\n",
    "dnn = Sequential()\n",
    "dnn.add(Dense(128, input_dim=121, activation='relu'))\n",
    "dnn.add(Dropout(0.2))\n",
    "\n",
    "dnn.add(Dropout(0.02)) #0.01\n",
    "dnn.add(Dense(5, activation='softmax'))\n"
   ]
  }
 ],
 "metadata": {
  "language_info": {
   "name": "python"
  },
  "orig_nbformat": 4
 },
 "nbformat": 4,
 "nbformat_minor": 2
}
